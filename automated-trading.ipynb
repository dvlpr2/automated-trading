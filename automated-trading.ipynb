{
 "cells": [
  {
   "cell_type": "markdown",
   "metadata": {
    "collapsed": false,
    "pycharm": {
     "name": "#%% md\n"
    }
   },
   "source": [
    "# Automated trading : find the fastest lines to the Exchange\n",
    "\n",
    "This notebook analyses a PCAP file containing the same pricing data received from 4 different servers over UDP multicast."
   ]
  },
  {
   "cell_type": "code",
   "execution_count": 13,
   "metadata": {
    "collapsed": false,
    "pycharm": {
     "is_executing": true,
     "name": "#%%\n"
    }
   },
   "outputs": [],
   "source": [
    "import pandas as pd\n",
    "import numpy as np\n",
    "import matplotlib.pyplot as plt\n",
    "from scapy.all import *"
   ]
  },
  {
   "cell_type": "markdown",
   "metadata": {},
   "source": [
    "Load the PCAP file and extract the sessions."
   ]
  },
  {
   "cell_type": "code",
   "execution_count": 14,
   "metadata": {},
   "outputs": [
    {
     "name": "stdout",
     "output_type": "stream",
     "text": [
      "\n",
      "Number of sessions in pcap file = 4 \n",
      "\n",
      "- session name => UDP 10.10.10.1:33000 > 239.22.0.1:51000\n",
      "- session name => UDP 10.10.10.2:33000 > 239.22.0.2:51000\n",
      "- session name => UDP 10.10.10.3:33000 > 239.22.0.3:51000\n",
      "- session name => UDP 10.10.10.4:33000 > 239.22.0.4:51000\n"
     ]
    }
   ],
   "source": [
    "input_pcap = \"pcap/prices.pcap\"\n",
    "pc = rdpcap(input_pcap)\n",
    "sessions = pc.sessions()\n",
    "print(\"\\nNumber of sessions in pcap file =\", len(sessions), \"\\n\")\n",
    "for session_name in sorted(sessions):\n",
    "    print(\"- session name =>\", session_name)"
   ]
  },
  {
   "cell_type": "markdown",
   "metadata": {},
   "source": [
    "Prepare the prices dict: it will be used to create the pandas dataframe."
   ]
  },
  {
   "cell_type": "code",
   "execution_count": 15,
   "metadata": {},
   "outputs": [
    {
     "name": "stdout",
     "output_type": "stream",
     "text": [
      "\n",
      "Keys: ['price', 'arrival', 'src']\n"
     ]
    }
   ],
   "source": [
    "price_label = 'price'\n",
    "arrival_label = 'arrival'\n",
    "src_label = 'src'\n",
    "prices = { price_label: [], arrival_label: [], src_label: [] }\n",
    "print(\"\\nKeys:\", list(prices.keys()))"
   ]
  },
  {
   "cell_type": "markdown",
   "metadata": {},
   "source": [
    "Populate the prices dict."
   ]
  },
  {
   "cell_type": "code",
   "execution_count": 16,
   "metadata": {},
   "outputs": [
    {
     "name": "stdout",
     "output_type": "stream",
     "text": [
      "\n",
      "Nb of rows = 3989\n"
     ]
    }
   ],
   "source": [
    "n = 0\n",
    "for session_name in sessions:\n",
    "    for packet in sessions[session_name]:\n",
    "        price = packet[UDP].payload.load\n",
    "        arrival = packet.time\n",
    "        src = packet.getlayer(IP).src\n",
    "        prices[price_label].append(price)\n",
    "        prices[arrival_label].append(float(arrival))\n",
    "        prices[src_label].append(src)\n",
    "        n += 1\n",
    "\n",
    "print(\"\\nNb of rows =\", n)\n"
   ]
  },
  {
   "cell_type": "markdown",
   "metadata": {
    "collapsed": false,
    "pycharm": {
     "name": "#%% md\n"
    }
   },
   "source": [
    "Convert the prices dict into a pandas dataframe."
   ]
  },
  {
   "cell_type": "code",
   "execution_count": 17,
   "metadata": {},
   "outputs": [
    {
     "name": "stdout",
     "output_type": "stream",
     "text": [
      "                                       price       arrival         src\n",
      "0       b'Symbol: APPL Seqno: 0 Price: 1623'  1.473412e+09  10.10.10.4\n",
      "1       b'Symbol: APPL Seqno: 1 Price: 1649'  1.473412e+09  10.10.10.4\n",
      "2       b'Symbol: APPL Seqno: 2 Price: 1642'  1.473412e+09  10.10.10.4\n",
      "3       b'Symbol: APPL Seqno: 3 Price: 1636'  1.473412e+09  10.10.10.4\n",
      "4       b'Symbol: APPL Seqno: 4 Price: 1669'  1.473412e+09  10.10.10.4\n",
      "...                                      ...           ...         ...\n",
      "3984  b'Symbol: APPL Seqno: 995 Price: 1641'  1.473413e+09  10.10.10.2\n",
      "3985  b'Symbol: APPL Seqno: 996 Price: 1581'  1.473413e+09  10.10.10.2\n",
      "3986  b'Symbol: APPL Seqno: 997 Price: 1674'  1.473413e+09  10.10.10.2\n",
      "3987  b'Symbol: APPL Seqno: 998 Price: 1680'  1.473413e+09  10.10.10.2\n",
      "3988  b'Symbol: APPL Seqno: 999 Price: 1509'  1.473413e+09  10.10.10.2\n",
      "\n",
      "[3989 rows x 3 columns]\n"
     ]
    }
   ],
   "source": [
    "prices_df = pd.DataFrame(prices)\n",
    "print(prices_df)"
   ]
  },
  {
   "cell_type": "markdown",
   "metadata": {},
   "source": [
    "Since there are 4 lines, there should be 4 sources per price.  \n",
    "This is to check if there ar missing records:  \n",
    "=> there are 33 prices with only 3 sources"
   ]
  },
  {
   "cell_type": "code",
   "execution_count": 18,
   "metadata": {
    "collapsed": false,
    "pycharm": {
     "name": "#%%\n"
    }
   },
   "outputs": [
    {
     "data": {
      "text/html": [
       "<div>\n",
       "<style scoped>\n",
       "    .dataframe tbody tr th:only-of-type {\n",
       "        vertical-align: middle;\n",
       "    }\n",
       "\n",
       "    .dataframe tbody tr th {\n",
       "        vertical-align: top;\n",
       "    }\n",
       "\n",
       "    .dataframe thead th {\n",
       "        text-align: right;\n",
       "    }\n",
       "</style>\n",
       "<table border=\"1\" class=\"dataframe\">\n",
       "  <thead>\n",
       "    <tr style=\"text-align: right;\">\n",
       "      <th></th>\n",
       "      <th>n</th>\n",
       "    </tr>\n",
       "    <tr>\n",
       "      <th>n</th>\n",
       "      <th></th>\n",
       "    </tr>\n",
       "  </thead>\n",
       "  <tbody>\n",
       "    <tr>\n",
       "      <th>3</th>\n",
       "      <td>33</td>\n",
       "    </tr>\n",
       "    <tr>\n",
       "      <th>4</th>\n",
       "      <td>3956</td>\n",
       "    </tr>\n",
       "  </tbody>\n",
       "</table>\n",
       "</div>"
      ],
      "text/plain": [
       "      n\n",
       "n      \n",
       "3    33\n",
       "4  3956"
      ]
     },
     "execution_count": 18,
     "metadata": {},
     "output_type": "execute_result"
    }
   ],
   "source": [
    "prices_df.\\\n",
    "    groupby(price_label).\\\n",
    "    agg({src_label: 'size'}).\\\n",
    "    rename(columns = {'src': 'n'}).\\\n",
    "    groupby(\"n\").\\\n",
    "    agg({'n': 'sum'})\n"
   ]
  },
  {
   "cell_type": "markdown",
   "metadata": {},
   "source": [
    "For each price, sort by arrival, and set a rank according to the order of arrival."
   ]
  },
  {
   "cell_type": "code",
   "execution_count": 19,
   "metadata": {},
   "outputs": [
    {
     "data": {
      "text/html": [
       "<div>\n",
       "<style scoped>\n",
       "    .dataframe tbody tr th:only-of-type {\n",
       "        vertical-align: middle;\n",
       "    }\n",
       "\n",
       "    .dataframe tbody tr th {\n",
       "        vertical-align: top;\n",
       "    }\n",
       "\n",
       "    .dataframe thead th {\n",
       "        text-align: right;\n",
       "    }\n",
       "</style>\n",
       "<table border=\"1\" class=\"dataframe\">\n",
       "  <thead>\n",
       "    <tr style=\"text-align: right;\">\n",
       "      <th></th>\n",
       "      <th></th>\n",
       "      <th>src</th>\n",
       "      <th>rank</th>\n",
       "    </tr>\n",
       "    <tr>\n",
       "      <th>price</th>\n",
       "      <th></th>\n",
       "      <th></th>\n",
       "      <th></th>\n",
       "    </tr>\n",
       "  </thead>\n",
       "  <tbody>\n",
       "    <tr>\n",
       "      <th rowspan=\"4\" valign=\"top\">b'Symbol: APPL Seqno: 0 Price: 1623'</th>\n",
       "      <th>0</th>\n",
       "      <td>10.10.10.4</td>\n",
       "      <td>1</td>\n",
       "    </tr>\n",
       "    <tr>\n",
       "      <th>1000</th>\n",
       "      <td>10.10.10.1</td>\n",
       "      <td>2</td>\n",
       "    </tr>\n",
       "    <tr>\n",
       "      <th>2000</th>\n",
       "      <td>10.10.10.3</td>\n",
       "      <td>3</td>\n",
       "    </tr>\n",
       "    <tr>\n",
       "      <th>3000</th>\n",
       "      <td>10.10.10.2</td>\n",
       "      <td>4</td>\n",
       "    </tr>\n",
       "    <tr>\n",
       "      <th>b'Symbol: APPL Seqno: 1 Price: 1649'</th>\n",
       "      <th>1</th>\n",
       "      <td>10.10.10.4</td>\n",
       "      <td>1</td>\n",
       "    </tr>\n",
       "    <tr>\n",
       "      <th>...</th>\n",
       "      <th>...</th>\n",
       "      <td>...</td>\n",
       "      <td>...</td>\n",
       "    </tr>\n",
       "    <tr>\n",
       "      <th>b'Symbol: APPL Seqno: 998 Price: 1680'</th>\n",
       "      <th>1998</th>\n",
       "      <td>10.10.10.1</td>\n",
       "      <td>4</td>\n",
       "    </tr>\n",
       "    <tr>\n",
       "      <th rowspan=\"4\" valign=\"top\">b'Symbol: APPL Seqno: 999 Price: 1509'</th>\n",
       "      <th>999</th>\n",
       "      <td>10.10.10.4</td>\n",
       "      <td>1</td>\n",
       "    </tr>\n",
       "    <tr>\n",
       "      <th>2999</th>\n",
       "      <td>10.10.10.3</td>\n",
       "      <td>2</td>\n",
       "    </tr>\n",
       "    <tr>\n",
       "      <th>1999</th>\n",
       "      <td>10.10.10.1</td>\n",
       "      <td>3</td>\n",
       "    </tr>\n",
       "    <tr>\n",
       "      <th>3988</th>\n",
       "      <td>10.10.10.2</td>\n",
       "      <td>4</td>\n",
       "    </tr>\n",
       "  </tbody>\n",
       "</table>\n",
       "<p>3989 rows × 2 columns</p>\n",
       "</div>"
      ],
      "text/plain": [
       "                                                    src  rank\n",
       "price                                                        \n",
       "b'Symbol: APPL Seqno: 0 Price: 1623'   0     10.10.10.4     1\n",
       "                                       1000  10.10.10.1     2\n",
       "                                       2000  10.10.10.3     3\n",
       "                                       3000  10.10.10.2     4\n",
       "b'Symbol: APPL Seqno: 1 Price: 1649'   1     10.10.10.4     1\n",
       "...                                                 ...   ...\n",
       "b'Symbol: APPL Seqno: 998 Price: 1680' 1998  10.10.10.1     4\n",
       "b'Symbol: APPL Seqno: 999 Price: 1509' 999   10.10.10.4     1\n",
       "                                       2999  10.10.10.3     2\n",
       "                                       1999  10.10.10.1     3\n",
       "                                       3988  10.10.10.2     4\n",
       "\n",
       "[3989 rows x 2 columns]"
      ]
     },
     "execution_count": 19,
     "metadata": {},
     "output_type": "execute_result"
    }
   ],
   "source": [
    "# helper funtion to be applied to each group\n",
    "def set_rank(df):\n",
    "    df = df.assign(rank=range(1, len(df)+1))\n",
    "    return df\n",
    "\n",
    "ranks_per_src = \\\n",
    "    prices_df.\\\n",
    "    sort_values(by=[price_label, arrival_label]).\\\n",
    "    groupby(price_label).\\\n",
    "    apply(set_rank, include_groups=False).\\\n",
    "    filter([src_label, 'rank'])\n",
    "ranks_per_src"
   ]
  },
  {
   "cell_type": "markdown",
   "metadata": {
    "collapsed": false,
    "pycharm": {
     "name": "#%% md\n"
    }
   },
   "source": [
    "Calculate the ranking descriptive stats by source."
   ]
  },
  {
   "cell_type": "code",
   "execution_count": 20,
   "metadata": {
    "collapsed": false,
    "pycharm": {
     "name": "#%%\n"
    }
   },
   "outputs": [
    {
     "data": {
      "text/html": [
       "<div>\n",
       "<style scoped>\n",
       "    .dataframe tbody tr th:only-of-type {\n",
       "        vertical-align: middle;\n",
       "    }\n",
       "\n",
       "    .dataframe tbody tr th {\n",
       "        vertical-align: top;\n",
       "    }\n",
       "\n",
       "    .dataframe thead th {\n",
       "        text-align: right;\n",
       "    }\n",
       "</style>\n",
       "<table border=\"1\" class=\"dataframe\">\n",
       "  <thead>\n",
       "    <tr style=\"text-align: right;\">\n",
       "      <th></th>\n",
       "      <th>rank_avg</th>\n",
       "      <th>rank_sd</th>\n",
       "    </tr>\n",
       "    <tr>\n",
       "      <th>src</th>\n",
       "      <th></th>\n",
       "      <th></th>\n",
       "    </tr>\n",
       "  </thead>\n",
       "  <tbody>\n",
       "    <tr>\n",
       "      <th>10.10.10.1</th>\n",
       "      <td>2.850000</td>\n",
       "      <td>1.005242</td>\n",
       "    </tr>\n",
       "    <tr>\n",
       "      <th>10.10.10.2</th>\n",
       "      <td>2.805865</td>\n",
       "      <td>0.977855</td>\n",
       "    </tr>\n",
       "    <tr>\n",
       "      <th>10.10.10.3</th>\n",
       "      <td>2.323000</td>\n",
       "      <td>1.103580</td>\n",
       "    </tr>\n",
       "    <tr>\n",
       "      <th>10.10.10.4</th>\n",
       "      <td>2.008000</td>\n",
       "      <td>1.147717</td>\n",
       "    </tr>\n",
       "  </tbody>\n",
       "</table>\n",
       "</div>"
      ],
      "text/plain": [
       "            rank_avg   rank_sd\n",
       "src                           \n",
       "10.10.10.1  2.850000  1.005242\n",
       "10.10.10.2  2.805865  0.977855\n",
       "10.10.10.3  2.323000  1.103580\n",
       "10.10.10.4  2.008000  1.147717"
      ]
     },
     "execution_count": 20,
     "metadata": {},
     "output_type": "execute_result"
    }
   ],
   "source": [
    "ranking_stats = \\\n",
    "  ranks_per_src.\\\n",
    "  sort_values(by=[src_label]).\\\n",
    "  groupby(src_label).\\\n",
    "  agg(['mean', 'std']).\\\n",
    "  droplevel(0, 1).\\\n",
    "  rename(columns = {'mean': 'rank_avg', 'std': 'rank_sd'}).\\\n",
    "  sort_values(by=['rank_avg', 'rank_sd'])\n",
    "\n",
    "ranking_stats.sort_values(by = \"src\")"
   ]
  },
  {
   "cell_type": "markdown",
   "metadata": {
    "collapsed": false,
    "pycharm": {
     "name": "#%% md\n"
    }
   },
   "source": [
    "Compute the ranking frequency distributions by source."
   ]
  },
  {
   "cell_type": "code",
   "execution_count": 21,
   "metadata": {},
   "outputs": [
    {
     "data": {
      "text/html": [
       "<div>\n",
       "<style scoped>\n",
       "    .dataframe tbody tr th:only-of-type {\n",
       "        vertical-align: middle;\n",
       "    }\n",
       "\n",
       "    .dataframe tbody tr th {\n",
       "        vertical-align: top;\n",
       "    }\n",
       "\n",
       "    .dataframe thead th {\n",
       "        text-align: right;\n",
       "    }\n",
       "</style>\n",
       "<table border=\"1\" class=\"dataframe\">\n",
       "  <thead>\n",
       "    <tr style=\"text-align: right;\">\n",
       "      <th></th>\n",
       "      <th>rank1</th>\n",
       "      <th>rank2</th>\n",
       "      <th>rank3</th>\n",
       "      <th>rank4</th>\n",
       "    </tr>\n",
       "    <tr>\n",
       "      <th>src</th>\n",
       "      <th></th>\n",
       "      <th></th>\n",
       "      <th></th>\n",
       "      <th></th>\n",
       "    </tr>\n",
       "  </thead>\n",
       "  <tbody>\n",
       "    <tr>\n",
       "      <th>10.10.10.1</th>\n",
       "      <td>106</td>\n",
       "      <td>273</td>\n",
       "      <td>286</td>\n",
       "      <td>335</td>\n",
       "    </tr>\n",
       "    <tr>\n",
       "      <th>10.10.10.2</th>\n",
       "      <td>108</td>\n",
       "      <td>263</td>\n",
       "      <td>331</td>\n",
       "      <td>287</td>\n",
       "    </tr>\n",
       "    <tr>\n",
       "      <th>10.10.10.3</th>\n",
       "      <td>296</td>\n",
       "      <td>288</td>\n",
       "      <td>213</td>\n",
       "      <td>203</td>\n",
       "    </tr>\n",
       "    <tr>\n",
       "      <th>10.10.10.4</th>\n",
       "      <td>490</td>\n",
       "      <td>176</td>\n",
       "      <td>170</td>\n",
       "      <td>164</td>\n",
       "    </tr>\n",
       "  </tbody>\n",
       "</table>\n",
       "</div>"
      ],
      "text/plain": [
       "            rank1  rank2  rank3  rank4\n",
       "src                                   \n",
       "10.10.10.1    106    273    286    335\n",
       "10.10.10.2    108    263    331    287\n",
       "10.10.10.3    296    288    213    203\n",
       "10.10.10.4    490    176    170    164"
      ]
     },
     "execution_count": 21,
     "metadata": {},
     "output_type": "execute_result"
    }
   ],
   "source": [
    "ranking_distributions = \\\n",
    "  ranks_per_src.\\\n",
    "  sort_values(by=[src_label]).\\\n",
    "  assign(\n",
    "    rank1 = lambda d: d['rank'].map(lambda r: 1 if r == 1 else 0),\n",
    "    rank2 = lambda d: d['rank'].map(lambda r: 1 if r == 2 else 0),\n",
    "    rank3 = lambda d: d['rank'].map(lambda r: 1 if r == 3 else 0),\n",
    "    rank4 = lambda d: d['rank'].map(lambda r: 1 if r == 4 else 0)\n",
    "  ).\\\n",
    "  drop(columns=['rank']).\\\n",
    "  groupby(src_label).\\\n",
    "  agg(['sum']).\\\n",
    "  droplevel(1, 1)\n",
    "ranking_distributions  "
   ]
  },
  {
   "cell_type": "markdown",
   "metadata": {},
   "source": [
    "Join the stats and the distributions."
   ]
  },
  {
   "cell_type": "code",
   "execution_count": 22,
   "metadata": {},
   "outputs": [
    {
     "data": {
      "text/html": [
       "<div>\n",
       "<style scoped>\n",
       "    .dataframe tbody tr th:only-of-type {\n",
       "        vertical-align: middle;\n",
       "    }\n",
       "\n",
       "    .dataframe tbody tr th {\n",
       "        vertical-align: top;\n",
       "    }\n",
       "\n",
       "    .dataframe thead th {\n",
       "        text-align: right;\n",
       "    }\n",
       "</style>\n",
       "<table border=\"1\" class=\"dataframe\">\n",
       "  <thead>\n",
       "    <tr style=\"text-align: right;\">\n",
       "      <th></th>\n",
       "      <th>rank_avg</th>\n",
       "      <th>rank_sd</th>\n",
       "      <th>rank1</th>\n",
       "      <th>rank2</th>\n",
       "      <th>rank3</th>\n",
       "      <th>rank4</th>\n",
       "    </tr>\n",
       "    <tr>\n",
       "      <th>src</th>\n",
       "      <th></th>\n",
       "      <th></th>\n",
       "      <th></th>\n",
       "      <th></th>\n",
       "      <th></th>\n",
       "      <th></th>\n",
       "    </tr>\n",
       "  </thead>\n",
       "  <tbody>\n",
       "    <tr>\n",
       "      <th>10.10.10.4</th>\n",
       "      <td>2.008000</td>\n",
       "      <td>1.147717</td>\n",
       "      <td>490</td>\n",
       "      <td>176</td>\n",
       "      <td>170</td>\n",
       "      <td>164</td>\n",
       "    </tr>\n",
       "    <tr>\n",
       "      <th>10.10.10.3</th>\n",
       "      <td>2.323000</td>\n",
       "      <td>1.103580</td>\n",
       "      <td>296</td>\n",
       "      <td>288</td>\n",
       "      <td>213</td>\n",
       "      <td>203</td>\n",
       "    </tr>\n",
       "    <tr>\n",
       "      <th>10.10.10.2</th>\n",
       "      <td>2.805865</td>\n",
       "      <td>0.977855</td>\n",
       "      <td>108</td>\n",
       "      <td>263</td>\n",
       "      <td>331</td>\n",
       "      <td>287</td>\n",
       "    </tr>\n",
       "    <tr>\n",
       "      <th>10.10.10.1</th>\n",
       "      <td>2.850000</td>\n",
       "      <td>1.005242</td>\n",
       "      <td>106</td>\n",
       "      <td>273</td>\n",
       "      <td>286</td>\n",
       "      <td>335</td>\n",
       "    </tr>\n",
       "  </tbody>\n",
       "</table>\n",
       "</div>"
      ],
      "text/plain": [
       "            rank_avg   rank_sd  rank1  rank2  rank3  rank4\n",
       "src                                                       \n",
       "10.10.10.4  2.008000  1.147717    490    176    170    164\n",
       "10.10.10.3  2.323000  1.103580    296    288    213    203\n",
       "10.10.10.2  2.805865  0.977855    108    263    331    287\n",
       "10.10.10.1  2.850000  1.005242    106    273    286    335"
      ]
     },
     "execution_count": 22,
     "metadata": {},
     "output_type": "execute_result"
    }
   ],
   "source": [
    "ranking_summary = \\\n",
    "  pd.merge(ranking_stats, ranking_distributions, how=\"left\", on=[src_label])\n",
    "ranking_summary"
   ]
  },
  {
   "cell_type": "markdown",
   "metadata": {},
   "source": [
    "Mean / deviation charts."
   ]
  },
  {
   "cell_type": "code",
   "execution_count": 23,
   "metadata": {},
   "outputs": [
    {
     "data": {
      "image/png": "[encoded data removed]",
      "text/plain": [
       "<Figure size 640x480 with 1 Axes>"
      ]
     },
     "metadata": {},
     "output_type": "display_data"
    }
   ],
   "source": [
    "qual = ranks_per_src.groupby(src_label).agg(['mean', 'std']).droplevel(0, 1)\n",
    "qual.plot(kind = \"barh\", y = \"mean\", legend = False, xerr = \"std\", title = \"Ranking\", color='green')\n",
    "\n",
    "plt.show()"
   ]
  },
  {
   "cell_type": "markdown",
   "metadata": {},
   "source": [
    "Charts of the 4 distributions."
   ]
  },
  {
   "cell_type": "code",
   "execution_count": 24,
   "metadata": {
    "collapsed": false,
    "pycharm": {
     "name": "#%%\n"
    }
   },
   "outputs": [
    {
     "data": {
      "image/png": "[encoded data removed]",
      "text/plain": [
       "<Figure size 640x480 with 4 Axes>"
      ]
     },
     "metadata": {},
     "output_type": "display_data"
    }
   ],
   "source": [
    "fig, axes = plt.subplots(nrows=1, ncols=4)\n",
    "\n",
    "srcs = ranking_summary.filter([src_label]).drop_duplicates()\n",
    "data1 = ranks_per_src.where(ranks_per_src[src_label] == srcs.index[0])\n",
    "data1.plot.hist(ax = axes[0], bins=4, alpha=0.5, title = srcs.index[0])\n",
    "data2 = ranks_per_src.where(ranks_per_src[src_label] == srcs.index[1])\n",
    "data2.plot.hist(ax = axes[1], bins=4, alpha=0.5, title = srcs.index[1])\n",
    "data3 = ranks_per_src.where(ranks_per_src[src_label] == srcs.index[2])\n",
    "data3.plot.hist(ax = axes[2], bins=4, alpha=0.5, title = srcs.index[2])\n",
    "data4 = ranks_per_src.where(ranks_per_src[src_label] == srcs.index[3])\n",
    "data4.plot.hist(ax = axes[3], bins=4, alpha=0.5, title = srcs.index[3])\n",
    "\n",
    "plt.show()"
   ]
  },
  {
   "cell_type": "markdown",
   "metadata": {},
   "source": [
    "It is possible now to objectively decide to keep on only the lines 10.10.10.4 (the fastest by far) and 10.10.10.3 as a backup.  \n",
    "The other 2 lines are much slower and can be discarded."
   ]
  }
 ],
 "metadata": {
  "kernelspec": {
   "display_name": "Python 3",
   "language": "python",
   "name": "python3"
  },
  "language_info": {
   "codemirror_mode": {
    "name": "ipython",
    "version": 3
   },
   "file_extension": ".py",
   "mimetype": "text/x-python",
   "name": "python",
   "nbconvert_exporter": "python",
   "pygments_lexer": "ipython3",
   "version": "3.11.2"
  }
 },
 "nbformat": 4,
 "nbformat_minor": 0
}
